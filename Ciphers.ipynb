{
  "nbformat": 4,
  "nbformat_minor": 0,
  "metadata": {
    "colab": {
      "provenance": [],
      "authorship_tag": "ABX9TyOcHZ+Duyp2Cks3metOf8Ke",
      "include_colab_link": true
    },
    "kernelspec": {
      "name": "python3",
      "display_name": "Python 3"
    },
    "language_info": {
      "name": "python"
    }
  },
  "cells": [
    {
      "cell_type": "markdown",
      "metadata": {
        "id": "view-in-github",
        "colab_type": "text"
      },
      "source": [
        "<a href=\"https://colab.research.google.com/github/patbhav1441/GuGuGaGa/blob/main/Ciphers.ipynb\" target=\"_parent\"><img src=\"https://colab.research.google.com/assets/colab-badge.svg\" alt=\"Open In Colab\"/></a>"
      ]
    },
    {
      "cell_type": "markdown",
      "source": [
        "Caesar Cipher - Encryption & Decryption"
      ],
      "metadata": {
        "id": "s5-2VSPHOoAv"
      }
    },
    {
      "cell_type": "code",
      "source": [
        "\"\"\"text = input('Enter a message: ')\n",
        "shift = input('Select a # for encryption: ')\n",
        "\n",
        "def encrypt(message, key):\n",
        "  alphabet = 'abcdefghijklmnopqrstuvwxyz'\n",
        "  encrypted_message = ''\n",
        "\n",
        "  for char in message.lower():\n",
        "    if char == ' ':\n",
        "      encrypted_message += ' '\n",
        "    else:\n",
        "      index = alphabet.find(char)\n",
        "      new_index = (int(index) + int(key)) % len(alphabet)\n",
        "      encrypted_message += alphabet[new_index]\n",
        "  print(f'plain text: {message}')\n",
        "  print(f'encrypted text: {encrypted_message}')\n",
        "\n",
        "encrypt(text, shift)\n",
        "\n",
        "encrypted_textz = 'nkrru se tommg'\n",
        "key = shift * -1\n",
        "\n",
        "def decrypt(message, key):\n",
        "  alphabet = 'abcdefghijklmnopqrstuvwxyz'\n",
        "  decrypted_message = ''\n",
        "\n",
        "  for char in message.lower():\n",
        "    if char == ' ':\n",
        "      decrypted_message += ' '\n",
        "    else:\n",
        "      index = alphabet.find(char)\n",
        "      new_index = (index + key) % len(alphabet)\n",
        "      decrypted_message += alphabet[new_index]\n",
        "  print(f'dencrypted text: {decrypted_message}')\n",
        "\n",
        "decrypt(encrypted_textz, -3)\"\"\"\n"
      ],
      "metadata": {
        "id": "TSJh2U5IOsyi"
      },
      "execution_count": null,
      "outputs": []
    },
    {
      "cell_type": "markdown",
      "source": [
        "Vigenère Cipher - Encryptor/Descryptor"
      ],
      "metadata": {
        "id": "JG31jNalO2ct"
      }
    },
    {
      "cell_type": "code",
      "source": [
        "text = 'Shaka laka boom boom'\n",
        "custom_key = 'happycoding'\n",
        "\n",
        "def vigenere(cmessage, ckey, direction=1):\n",
        "    ckey_index = 0\n",
        "    alphabet = 'abcdefghijklmnopqrstuvwxyz'\n",
        "    final_message = ''\n",
        "\n",
        "    for charz in cmessage.lower():\n",
        "\n",
        "        if not charz.isalpha():\n",
        "            final_message += charz\n",
        "        else:\n",
        "            ckey_char = ckey[ckey_index % len(ckey)]\n",
        "            ckey_index += 1\n",
        "\n",
        "            offset = alphabet.index(ckey_char)\n",
        "            index = alphabet.find(charz)\n",
        "            new_index = (index + offset*direction) % len(alphabet)\n",
        "            final_message += alphabet[new_index]\n",
        "\n",
        "    return final_message\n",
        "\n",
        "def encrypt(cmessage, ckey):\n",
        "    return vigenere(cmessage, ckey)\n",
        "\n",
        "def decrypt(cmessage, ckey):\n",
        "    return vigenere(cmessage, ckey, -1)\n",
        "\n",
        "print(f'\\nEncrypted text: {text}')\n",
        "print(f'Key: {custom_key}')\n",
        "decryption = decrypt(text, custom_key)\n",
        "print(f'\\nDecrypted text: {decryption}\\n')\n",
        "\n",
        "# lhlvc jmhs oihm mzqk"
      ],
      "metadata": {
        "colab": {
          "base_uri": "https://localhost:8080/"
        },
        "id": "AlFRg47APoMs",
        "outputId": "73ab82a5-7cdc-4a7b-df93-a7240233c654"
      },
      "execution_count": 38,
      "outputs": [
        {
          "output_type": "stream",
          "name": "stdout",
          "text": [
            "\n",
            "Encrypted text: Shaka laka boom boom\n",
            "Key: happycoding\n",
            "\n",
            "Decrypted text: lhlvc jmhs oihm mzqk\n",
            "\n"
          ]
        }
      ]
    }
  ]
}